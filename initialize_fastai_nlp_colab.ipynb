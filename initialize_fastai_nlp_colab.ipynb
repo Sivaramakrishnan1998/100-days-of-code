{
  "nbformat": 4,
  "nbformat_minor": 0,
  "metadata": {
    "colab": {
      "name": "initialize_fastai_nlp_colab.ipynb",
      "provenance": [],
      "private_outputs": true,
      "collapsed_sections": [],
      "include_colab_link": true
    },
    "kernelspec": {
      "name": "python3",
      "display_name": "Python 3"
    },
    "accelerator": "GPU"
  },
  "cells": [
    {
      "cell_type": "markdown",
      "metadata": {
        "id": "view-in-github",
        "colab_type": "text"
      },
      "source": [
        "<a href=\"https://colab.research.google.com/github/Sivaramakrishnan1998/100-days-of-code/blob/master/initialize_fastai_nlp_colab.ipynb\" target=\"_parent\"><img src=\"https://colab.research.google.com/assets/colab-badge.svg\" alt=\"Open In Colab\"/></a>"
      ]
    },
    {
      "cell_type": "markdown",
      "metadata": {
        "id": "e4pvAkpJ1TxS",
        "colab_type": "text"
      },
      "source": [
        "## **Run this notebook to initialize the \"Fastai Deep Learning From the Foundations\" course in Colab**"
      ]
    },
    {
      "cell_type": "markdown",
      "metadata": {
        "id": "EA5tt7l5reQN",
        "colab_type": "text"
      },
      "source": [
        "## 1. Make your Google Drive accessible"
      ]
    },
    {
      "cell_type": "code",
      "metadata": {
        "id": "XmNfXD52MTre",
        "colab_type": "code",
        "colab": {}
      },
      "source": [
        "# make your Google Drive accessible\n",
        "from google.colab import drive\n",
        "drive.mount('/content/gdrive', force_remount=True)\n",
        "root_dir = \"/content/gdrive/My Drive/\"\n",
        "base_dir = root_dir + 'fastai/course-nlp/'\n"
      ],
      "execution_count": 0,
      "outputs": []
    },
    {
      "cell_type": "markdown",
      "metadata": {
        "id": "gHuZ-H04rsy2",
        "colab_type": "text"
      },
      "source": [
        "## 2. Update fastai, according to instructions at https://course.fast.ai/start_colab.html"
      ]
    },
    {
      "cell_type": "code",
      "metadata": {
        "id": "bAfi87PiRBwD",
        "colab_type": "code",
        "colab": {}
      },
      "source": [
        "# update fastai, according to instructions at https://course.fast.ai/start_colab.html\n",
        "!curl -s https://course.fast.ai/setup/colab | bash"
      ],
      "execution_count": 0,
      "outputs": []
    },
    {
      "cell_type": "markdown",
      "metadata": {
        "id": "DrHH_dH9r-Ni",
        "colab_type": "text"
      },
      "source": [
        "## 3. Install fire and nbconvert\n",
        "###  [Python Fire](https://pypi.org/project/fire/) is a library for automatically generating command line interfaces (CLIs) with a single line of code. It will turn any Python module, class, object, function, etc. (any Python component will work!) into a CLI. It's called Fire because when you call Fire(), it fires off your command.\n",
        "### [nbconvert](https://nbconvert.readthedocs.io/en/latest/index.html)  allows conversion of Jupyter notebooks to other formats."
      ]
    },
    {
      "cell_type": "code",
      "metadata": {
        "id": "ee-4AgH2XvpX",
        "colab_type": "code",
        "colab": {}
      },
      "source": [
        "# install fire\n",
        "!pip install fire\n",
        "!pip install nbconvert"
      ],
      "execution_count": 0,
      "outputs": []
    },
    {
      "cell_type": "markdown",
      "metadata": {
        "id": "T8XVr0eBsDx5",
        "colab_type": "text"
      },
      "source": [
        "## 4. Clone the course-nlp repo in Drive\n",
        "### Editable versions of the course notebooks, and necessary scripts.\n"
      ]
    },
    {
      "cell_type": "code",
      "metadata": {
        "id": "6kOVMcw4M2xC",
        "colab_type": "code",
        "colab": {}
      },
      "source": [
        "# create a directory for fastai-v3 courses\n",
        "import os\n",
        "if not os.path.exists('/content/gdrive/My Drive/fastai'):\n",
        "    os.makedirs('/content/gdrive/My Drive/fastai')\n",
        "else:\n",
        "    print('directory already exists.')"
      ],
      "execution_count": 0,
      "outputs": []
    },
    {
      "cell_type": "code",
      "metadata": {
        "id": "Cx57V9JzTcXy",
        "colab_type": "code",
        "colab": {}
      },
      "source": [
        "# clone the course-v3 repo in /content/gdrive/My Drive/fastai-v3/, so that you can access all the scripts and notebooks\n",
        "os.chdir('/content/gdrive/My Drive/fastai/')\n",
        "if not os.path.exists('/content/gdrive/My Drive/fastai/course-nlp'):\n",
        "    !git clone https://github.com/fastai/course-nlp.git\n",
        "else:\n",
        "    print('destination path \\'course-nlp\\' already exists and is not an empty directory.')"
      ],
      "execution_count": 0,
      "outputs": []
    },
    {
      "cell_type": "code",
      "metadata": {
        "id": "9w3CPuBO0Wr2",
        "colab_type": "code",
        "colab": {}
      },
      "source": [
        "# navigate to the folder with the \"Deep Learning From the Foundations\" course notebooks\n",
        "os.chdir('/content/gdrive/My Drive/fastai/course-nlp/')\n",
        "os.listdir()"
      ],
      "execution_count": 0,
      "outputs": []
    },
    {
      "cell_type": "markdown",
      "metadata": {
        "id": "GnMA4h4_tewN",
        "colab_type": "text"
      },
      "source": [
        "## 5. Save this notebook to Drive\n",
        "### From the \"File\" tab on the menu bar at top left, choose \"Save a copy in Drive...\" To find out where this copy was saved: From the \"File\" tab, choose \"Locate in Drive\" You will see that the file was saved in the directory ''/content/gdrive/My Drive/Colab Notebooks/'"
      ]
    },
    {
      "cell_type": "code",
      "metadata": {
        "id": "RaxoTbUwKjLx",
        "colab_type": "code",
        "colab": {}
      },
      "source": [
        "# From the \"File\" tab on the menu bar at top left, choose \"Save\""
      ],
      "execution_count": 0,
      "outputs": []
    },
    {
      "cell_type": "markdown",
      "metadata": {
        "id": "KiaDhafb_RfH",
        "colab_type": "text"
      },
      "source": [
        "## 6. Run the following to prepend code cell to all ipynb notebooks\n",
        "\n",
        "After the following cell finishes running, you can now open the ipynb notebooks in your google drive fastai directory and be able to run them (\"Open With\" (right click), and then select \"Colaboratory\")."
      ]
    },
    {
      "cell_type": "code",
      "metadata": {
        "id": "0FPfJoHc74wQ",
        "colab_type": "code",
        "colab": {}
      },
      "source": [
        "import glob\n",
        "import nbformat\n",
        "\n",
        "code = \"\"\"\n",
        "# make your Google Drive accessible\n",
        "from google.colab import drive\n",
        "drive.mount('/content/gdrive', force_remount=True)\n",
        "root_dir = \"/content/gdrive/My Drive/\"\n",
        "base_dir = root_dir + 'fastai/course-nlp/'\n",
        "\n",
        "# navigate to the notebooks directory for dl2\n",
        "import os\n",
        "os.chdir(base_dir)\n",
        "\n",
        "# update fastai, according to instructions at https://course.fast.ai/start_colab.html\n",
        "!curl -s https://course.fast.ai/setup/colab | bash\n",
        "    \n",
        "# install fire\n",
        "!pip install fire\n",
        "!pip install nbconvert\n",
        "\"\"\"\n",
        "\n",
        "code_cell = nbformat.v4.new_code_cell(code)\n",
        "\n",
        "for file in glob.glob('/content/gdrive/My Drive/fastai/course-nlp/*.ipynb'):\n",
        "  nbnode = nbformat.read(file, as_version=4)\n",
        "  nbnode['cells'].insert(0, code_cell)\n",
        "  nbformat.write(nbnode, file)"
      ],
      "execution_count": 0,
      "outputs": []
    }
  ]
}